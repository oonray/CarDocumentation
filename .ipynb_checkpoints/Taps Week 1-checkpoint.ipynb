{
 "cells": [
  {
   "cell_type": "markdown",
   "metadata": {},
   "source": [
    "<style>\n",
    " .rendered_html img {margin-left: 0 !important;} \n",
    " .rendered_html table {margin-left: 0 !important;}  \n",
    "</style>\n",
    "\n",
    "<img src=https://www.noroff.no/images/logo/noroff-logo216x65.png>"
   ]
  },
  {
   "cell_type": "markdown",
   "metadata": {},
   "source": [
    "\n",
    "\n",
    "|Topic Title | Programming |\n",
    "|:-----------|-------------|\n",
    "|Topic Code  | FS2PRG111   |\n",
    "|TAP         | Tap 01      |\n",
    "\n",
    "## Tap01\n",
    "\n",
    "1.\tIn this assignment you will install the necessary programs for this course in programming.\n",
    "2.\tWhen you have everything installed, and you are connected with GitHub Classroom you should:\n",
    "    * Take a screenshot of your python version\n",
    "    * Take a screenshot GIT version \n",
    "    * Take a screenshot of your editor of choice\n",
    "    * paste the pictures in a document and submit it under TAP 1 on GitHub.\n",
    "\n",
    "Remember to deliver as a PDF.\n",
    "Submit the results to the TAP repository on GitHub, inside the Tap 01 Folder."
   ]
  },
  {
   "cell_type": "code",
   "execution_count": 2,
   "metadata": {},
   "outputs": [
    {
     "name": "stdout",
     "output_type": "stream",
     "text": [
      "Python 3.7.0\n",
      "git version 2.18.0\n",
      "\n"
     ]
    }
   ],
   "source": [
    "import os\n",
    "\n",
    "print(\"{}{}\".format(os.popen('python3 --version').read(), os.popen('git --version').read()))"
   ]
  },
  {
   "cell_type": "markdown",
   "metadata": {},
   "source": [
    "<img src=https://www.noroff.no/images/logo/noroff-logo216x65.png>"
   ]
  },
  {
   "cell_type": "markdown",
   "metadata": {},
   "source": [
    "|Topic Title | Programming |\n",
    "|:-----------|-------------|\n",
    "|Topic Code  | FS2PRG111   |\n",
    "|TAP         | Tap 02      |\n",
    "\n",
    "## Tap02"
   ]
  },
  {
   "cell_type": "markdown",
   "metadata": {},
   "source": [
    "1. Show the output of your git log so far. \n",
    "    * Show that you have committed yesterday’s tap.\n",
    "\n",
    "\n",
    "\n",
    "2. In your jupyter notebook use the print function in python to print out “Hello World!”\n"
   ]
  },
  {
   "cell_type": "code",
   "execution_count": null,
   "metadata": {},
   "outputs": [],
   "source": []
  },
  {
   "cell_type": "markdown",
   "metadata": {},
   "source": [
    "<img src=https://www.noroff.no/images/logo/noroff-logo216x65.png>"
   ]
  },
  {
   "cell_type": "markdown",
   "metadata": {},
   "source": [
    "|Topic Title | Programming |\n",
    "|:-----------|-------------|\n",
    "|Topic Code  | FS2PRG111   |\n",
    "|TAP         | Tap 03      |\n",
    "\n",
    "## Tap03"
   ]
  },
  {
   "cell_type": "markdown",
   "metadata": {},
   "source": [
    "1. Make a program that prints out the message:  “Hello World!, my name is \t&lt;your name&gt;.”\n",
    "    * Name the file hello.py\n",
    "\n",
    "2.\tMake a program that shows the contact information of a user. \n",
    "    * Let the user type in \n",
    "        * Name, \n",
    "        * Address,\n",
    "        * Phone number,\n",
    "        * Email address. \n",
    "\n",
    "    * The output should look like this: \n",
    "            Name: <First name>, <Last name> \n",
    "            Address: <Address> \n",
    "            Phone: <Phone number> \n",
    "            Email address: <email>  \n",
    "\n",
    "\n",
    "Submit the results to the TAP repository on GitHub, inside TAP 2 notebook. \n"
   ]
  },
  {
   "cell_type": "code",
   "execution_count": null,
   "metadata": {},
   "outputs": [],
   "source": [
    "name = \"Alexander\"\n",
    "\n",
    "print()"
   ]
  },
  {
   "cell_type": "markdown",
   "metadata": {},
   "source": [
    "<img src=https://www.noroff.no/images/logo/noroff-logo216x65.png>"
   ]
  },
  {
   "cell_type": "markdown",
   "metadata": {},
   "source": [
    "|Topic Title | Programming |\n",
    "|:-----------|-------------|\n",
    "|Topic Code  | FS2PRG111   |\n",
    "|TAP         | Tap 04      |\n",
    "\n",
    "## Tap04"
   ]
  },
  {
   "cell_type": "markdown",
   "metadata": {},
   "source": [
    "1.\tMake a program that calculates two different variables that are typed in by the user. Use:\n",
    "    *    Addition, \n",
    "    *\t Subtraction,\n",
    "    *\t Multiplication,\n",
    "    *\t Division,\n",
    "    *\t Floor division,\n",
    "    *\t Modulus and exponent. \n",
    "    *    Print the answer for each different operation.  \n",
    "\n",
    "\n",
    "\n",
    "2.\tMake a program that:\n",
    "    *\tLet’s the user type in a letter and find the ASCII code for the letter. \n",
    "    *\tLet’s the user type in a number and print out the corresponding symbol. \n",
    "\n",
    "\n",
    "\n",
    "3.\tWrite a short explanation for what the modulus operand does, show with and example. \n",
    "    Submit the results to the TAP repository on GitHub, inside the Week1 notebook. "
   ]
  },
  {
   "cell_type": "code",
   "execution_count": null,
   "metadata": {},
   "outputs": [],
   "source": []
  },
  {
   "cell_type": "markdown",
   "metadata": {},
   "source": [
    "<img src=https://www.noroff.no/images/logo/noroff-logo216x65.png>"
   ]
  },
  {
   "cell_type": "markdown",
   "metadata": {},
   "source": [
    "|Topic Title | Programming |\n",
    "|:-----------|-------------|\n",
    "|Topic Code  | FS2PRG111   |\n",
    "|TAP         | Tap 05      |\n",
    "\n",
    "## Tap05"
   ]
  },
  {
   "cell_type": "markdown",
   "metadata": {},
   "source": [
    "Use the print function to draw simple ACII art figures.\n",
    "  * You can use the \\t \\n to modify the string. \n",
    "  * Use a list to store the different drawing segments.\n",
    "  * Each figure should have its own list.\n",
    "\n",
    "```\n",
    "   _____      _____   __               _____          __   \n",
    "  /     \\    /  _  \\ |  | __ ____     /  _  \\________/  |_ \n",
    " /  \\ /  \\  /  /_\\  \\|  |/ // __ \\   /  /_\\  \\_  __ \\   __\\\n",
    "/    Y    \\/    |    \\    <\\  ___/  /    |    \\  | \\/|  |  \n",
    "\\____|__  /\\____|__  /__|_ \\\\___  > \\____|__  /__|   |__|  \n",
    "        \\/         \\/     \\/    \\/          \\/             \n",
    "```"
   ]
  },
  {
   "cell_type": "code",
   "execution_count": null,
   "metadata": {},
   "outputs": [],
   "source": []
  },
  {
   "cell_type": "markdown",
   "metadata": {},
   "source": [
    "| Assesment Grid |             |\n",
    "|------------|-------------|\n",
    "|No effort put into this – or totally off topic. | 0% |\n",
    "|You have made some effort, but you need to put in some more work to pass. | 25% |\n",
    "|You have some knowledge about the topic – but you should elaborate more to show that you are willing to put in the work needed. | 50% |\n",
    "|Good job, you know a lot about the topic and with a little more effort – you will get full score. | 75% |\n",
    "|Excellent! Putting a solid effort into these tasks, demonstrating thoughtful and/or technically correct solutions and/or answers. | 100% |"
   ]
  },
  {
   "cell_type": "markdown",
   "metadata": {},
   "source": [
    "## Tap Response\n",
    "\n",
    "|  Title | Tap01 | Tap02 | Tap03 | Tap05 | \n",
    "|--------|-------|-------|-------|-------|\n",
    "| Score  |  Nan  |  Nan  |  Nan  |  Nan  |"
   ]
  },
  {
   "cell_type": "code",
   "execution_count": null,
   "metadata": {},
   "outputs": [],
   "source": []
  }
 ],
 "metadata": {
  "kernelspec": {
   "display_name": "Python 3",
   "language": "python",
   "name": "python3"
  },
  "language_info": {
   "codemirror_mode": {
    "name": "ipython",
    "version": 3
   },
   "file_extension": ".py",
   "mimetype": "text/x-python",
   "name": "python",
   "nbconvert_exporter": "python",
   "pygments_lexer": "ipython3",
   "version": "3.7.0"
  }
 },
 "nbformat": 4,
 "nbformat_minor": 2
}
